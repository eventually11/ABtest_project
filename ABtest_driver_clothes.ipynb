{
 "cells": [
  {
   "cell_type": "code",
   "execution_count": 12,
   "id": "9e035dd9-22aa-4a02-9752-23050f03bba8",
   "metadata": {},
   "outputs": [],
   "source": [
    "# import libraries\n",
    "import pandas as pd\n",
    "import numpy as np\n",
    "import matplotlib.pyplot as plt\n"
   ]
  },
  {
   "cell_type": "code",
   "execution_count": 13,
   "id": "3f16b5cb-dd39-4e81-95a8-b9eb824a6576",
   "metadata": {},
   "outputs": [
    {
     "data": {
      "text/html": [
       "<div>\n",
       "<style scoped>\n",
       "    .dataframe tbody tr th:only-of-type {\n",
       "        vertical-align: middle;\n",
       "    }\n",
       "\n",
       "    .dataframe tbody tr th {\n",
       "        vertical-align: top;\n",
       "    }\n",
       "\n",
       "    .dataframe thead th {\n",
       "        text-align: right;\n",
       "    }\n",
       "</style>\n",
       "<table border=\"1\" class=\"dataframe\">\n",
       "  <thead>\n",
       "    <tr style=\"text-align: right;\">\n",
       "      <th></th>\n",
       "      <th>user_id</th>\n",
       "      <th>label</th>\n",
       "      <th>strategy_id</th>\n",
       "    </tr>\n",
       "  </thead>\n",
       "  <tbody>\n",
       "    <tr>\n",
       "      <th>0</th>\n",
       "      <td>1</td>\n",
       "      <td>0</td>\n",
       "      <td>1</td>\n",
       "    </tr>\n",
       "    <tr>\n",
       "      <th>1</th>\n",
       "      <td>1000004</td>\n",
       "      <td>0</td>\n",
       "      <td>1</td>\n",
       "    </tr>\n",
       "    <tr>\n",
       "      <th>2</th>\n",
       "      <td>1000004</td>\n",
       "      <td>0</td>\n",
       "      <td>2</td>\n",
       "    </tr>\n",
       "  </tbody>\n",
       "</table>\n",
       "</div>"
      ],
      "text/plain": [
       "   user_id  label  strategy_id\n",
       "0        1      0            1\n",
       "1  1000004      0            1\n",
       "2  1000004      0            2"
      ]
     },
     "execution_count": 13,
     "metadata": {},
     "output_type": "execute_result"
    }
   ],
   "source": [
    "# load data\n",
    "data = pd.read_csv('effect_tb.csv',header = None)\n",
    "data.columns = [\"dt\",\"user_id\",\"label\",\"strategy_id\"]\n",
    "\n",
    "# no need to use dt\n",
    "data = data.drop(columns = \"dt\")\n",
    "data.head(3)"
   ]
  },
  {
   "cell_type": "code",
   "execution_count": 15,
   "id": "ff8c7359-656c-4449-bcc0-c9b8bb2775dd",
   "metadata": {},
   "outputs": [
    {
     "data": {
      "text/html": [
       "<div>\n",
       "<style scoped>\n",
       "    .dataframe tbody tr th:only-of-type {\n",
       "        vertical-align: middle;\n",
       "    }\n",
       "\n",
       "    .dataframe tbody tr th {\n",
       "        vertical-align: top;\n",
       "    }\n",
       "\n",
       "    .dataframe thead th {\n",
       "        text-align: right;\n",
       "    }\n",
       "</style>\n",
       "<table border=\"1\" class=\"dataframe\">\n",
       "  <thead>\n",
       "    <tr style=\"text-align: right;\">\n",
       "      <th></th>\n",
       "      <th>user_id</th>\n",
       "      <th>label</th>\n",
       "      <th>strategy_id</th>\n",
       "    </tr>\n",
       "  </thead>\n",
       "  <tbody>\n",
       "    <tr>\n",
       "      <th>count</th>\n",
       "      <td>2.645958e+06</td>\n",
       "      <td>2.645958e+06</td>\n",
       "      <td>2.645958e+06</td>\n",
       "    </tr>\n",
       "    <tr>\n",
       "      <th>mean</th>\n",
       "      <td>3.112995e+06</td>\n",
       "      <td>1.456297e-02</td>\n",
       "      <td>1.395761e+00</td>\n",
       "    </tr>\n",
       "    <tr>\n",
       "      <th>std</th>\n",
       "      <td>1.828262e+06</td>\n",
       "      <td>1.197952e-01</td>\n",
       "      <td>6.920480e-01</td>\n",
       "    </tr>\n",
       "    <tr>\n",
       "      <th>min</th>\n",
       "      <td>1.000000e+00</td>\n",
       "      <td>0.000000e+00</td>\n",
       "      <td>1.000000e+00</td>\n",
       "    </tr>\n",
       "    <tr>\n",
       "      <th>25%</th>\n",
       "      <td>1.526772e+06</td>\n",
       "      <td>0.000000e+00</td>\n",
       "      <td>1.000000e+00</td>\n",
       "    </tr>\n",
       "    <tr>\n",
       "      <th>50%</th>\n",
       "      <td>3.062184e+06</td>\n",
       "      <td>0.000000e+00</td>\n",
       "      <td>1.000000e+00</td>\n",
       "    </tr>\n",
       "    <tr>\n",
       "      <th>75%</th>\n",
       "      <td>4.721132e+06</td>\n",
       "      <td>0.000000e+00</td>\n",
       "      <td>2.000000e+00</td>\n",
       "    </tr>\n",
       "    <tr>\n",
       "      <th>max</th>\n",
       "      <td>6.265402e+06</td>\n",
       "      <td>1.000000e+00</td>\n",
       "      <td>3.000000e+00</td>\n",
       "    </tr>\n",
       "  </tbody>\n",
       "</table>\n",
       "</div>"
      ],
      "text/plain": [
       "            user_id         label   strategy_id\n",
       "count  2.645958e+06  2.645958e+06  2.645958e+06\n",
       "mean   3.112995e+06  1.456297e-02  1.395761e+00\n",
       "std    1.828262e+06  1.197952e-01  6.920480e-01\n",
       "min    1.000000e+00  0.000000e+00  1.000000e+00\n",
       "25%    1.526772e+06  0.000000e+00  1.000000e+00\n",
       "50%    3.062184e+06  0.000000e+00  1.000000e+00\n",
       "75%    4.721132e+06  0.000000e+00  2.000000e+00\n",
       "max    6.265402e+06  1.000000e+00  3.000000e+00"
      ]
     },
     "execution_count": 15,
     "metadata": {},
     "output_type": "execute_result"
    }
   ],
   "source": [
    "# table summary\n",
    "data.describe()"
   ]
  },
  {
   "cell_type": "code",
   "execution_count": 16,
   "id": "f3c75d15-f51e-4340-bd7b-173591f31035",
   "metadata": {},
   "outputs": [
    {
     "data": {
      "text/plain": [
       "user_id        2410683\n",
       "label                2\n",
       "strategy_id          3\n",
       "dtype: int64"
      ]
     },
     "execution_count": 16,
     "metadata": {},
     "output_type": "execute_result"
    }
   ],
   "source": [
    "# distinct count of columns\n",
    "data.nunique()"
   ]
  },
  {
   "cell_type": "code",
   "execution_count": 17,
   "id": "d67ed3bd-b3d7-4004-b492-9e2798c818d4",
   "metadata": {},
   "outputs": [
    {
     "data": {
      "text/html": [
       "<div>\n",
       "<style scoped>\n",
       "    .dataframe tbody tr th:only-of-type {\n",
       "        vertical-align: middle;\n",
       "    }\n",
       "\n",
       "    .dataframe tbody tr th {\n",
       "        vertical-align: top;\n",
       "    }\n",
       "\n",
       "    .dataframe thead th {\n",
       "        text-align: right;\n",
       "    }\n",
       "</style>\n",
       "<table border=\"1\" class=\"dataframe\">\n",
       "  <thead>\n",
       "    <tr style=\"text-align: right;\">\n",
       "      <th></th>\n",
       "      <th>user_id</th>\n",
       "      <th>label</th>\n",
       "      <th>strategy_id</th>\n",
       "    </tr>\n",
       "  </thead>\n",
       "  <tbody>\n",
       "    <tr>\n",
       "      <th>8529</th>\n",
       "      <td>1027</td>\n",
       "      <td>0</td>\n",
       "      <td>1</td>\n",
       "    </tr>\n",
       "    <tr>\n",
       "      <th>1485546</th>\n",
       "      <td>1027</td>\n",
       "      <td>0</td>\n",
       "      <td>1</td>\n",
       "    </tr>\n",
       "    <tr>\n",
       "      <th>1579415</th>\n",
       "      <td>1471</td>\n",
       "      <td>0</td>\n",
       "      <td>1</td>\n",
       "    </tr>\n",
       "    <tr>\n",
       "      <th>127827</th>\n",
       "      <td>1471</td>\n",
       "      <td>0</td>\n",
       "      <td>1</td>\n",
       "    </tr>\n",
       "    <tr>\n",
       "      <th>404862</th>\n",
       "      <td>2468</td>\n",
       "      <td>0</td>\n",
       "      <td>1</td>\n",
       "    </tr>\n",
       "    <tr>\n",
       "      <th>...</th>\n",
       "      <td>...</td>\n",
       "      <td>...</td>\n",
       "      <td>...</td>\n",
       "    </tr>\n",
       "    <tr>\n",
       "      <th>1382121</th>\n",
       "      <td>6264633</td>\n",
       "      <td>0</td>\n",
       "      <td>1</td>\n",
       "    </tr>\n",
       "    <tr>\n",
       "      <th>1382245</th>\n",
       "      <td>6264940</td>\n",
       "      <td>0</td>\n",
       "      <td>1</td>\n",
       "    </tr>\n",
       "    <tr>\n",
       "      <th>2575140</th>\n",
       "      <td>6264940</td>\n",
       "      <td>0</td>\n",
       "      <td>1</td>\n",
       "    </tr>\n",
       "    <tr>\n",
       "      <th>1382306</th>\n",
       "      <td>6265082</td>\n",
       "      <td>0</td>\n",
       "      <td>3</td>\n",
       "    </tr>\n",
       "    <tr>\n",
       "      <th>2575171</th>\n",
       "      <td>6265082</td>\n",
       "      <td>0</td>\n",
       "      <td>3</td>\n",
       "    </tr>\n",
       "  </tbody>\n",
       "</table>\n",
       "<p>25966 rows × 3 columns</p>\n",
       "</div>"
      ],
      "text/plain": [
       "         user_id  label  strategy_id\n",
       "8529        1027      0            1\n",
       "1485546     1027      0            1\n",
       "1579415     1471      0            1\n",
       "127827      1471      0            1\n",
       "404862      2468      0            1\n",
       "...          ...    ...          ...\n",
       "1382121  6264633      0            1\n",
       "1382245  6264940      0            1\n",
       "2575140  6264940      0            1\n",
       "1382306  6265082      0            3\n",
       "2575171  6265082      0            3\n",
       "\n",
       "[25966 rows x 3 columns]"
      ]
     },
     "execution_count": 17,
     "metadata": {},
     "output_type": "execute_result"
    }
   ],
   "source": [
    "data[data.duplicated(keep = False)].sort_values(by = [\"user_id\"])"
   ]
  },
  {
   "cell_type": "code",
   "execution_count": 7,
   "id": "72dfbd84-8caf-4506-91f9-2fb8c5029e98",
   "metadata": {},
   "outputs": [
    {
     "data": {
      "text/html": [
       "<div>\n",
       "<style scoped>\n",
       "    .dataframe tbody tr th:only-of-type {\n",
       "        vertical-align: middle;\n",
       "    }\n",
       "\n",
       "    .dataframe tbody tr th {\n",
       "        vertical-align: top;\n",
       "    }\n",
       "\n",
       "    .dataframe thead th {\n",
       "        text-align: right;\n",
       "    }\n",
       "</style>\n",
       "<table border=\"1\" class=\"dataframe\">\n",
       "  <thead>\n",
       "    <tr style=\"text-align: right;\">\n",
       "      <th></th>\n",
       "      <th>user_id</th>\n",
       "      <th>label</th>\n",
       "      <th>vehicle_id</th>\n",
       "    </tr>\n",
       "  </thead>\n",
       "  <tbody>\n",
       "  </tbody>\n",
       "</table>\n",
       "</div>"
      ],
      "text/plain": [
       "Empty DataFrame\n",
       "Columns: [user_id, label, vehicle_id]\n",
       "Index: []"
      ]
     },
     "execution_count": 7,
     "metadata": {},
     "output_type": "execute_result"
    }
   ],
   "source": [
    "# drop duplicate\n",
    "data = data.drop_duplicates()\n",
    "\n",
    "# check if any duplicates left\n",
    "data[data.duplicated(keep = False)]"
   ]
  },
  {
   "cell_type": "code",
   "execution_count": 18,
   "id": "aa1e5e05-a6fc-4dc4-ad5a-1aa24722fd13",
   "metadata": {},
   "outputs": [
    {
     "data": {
      "text/html": [
       "<div>\n",
       "<style scoped>\n",
       "    .dataframe tbody tr th:only-of-type {\n",
       "        vertical-align: middle;\n",
       "    }\n",
       "\n",
       "    .dataframe tbody tr th {\n",
       "        vertical-align: top;\n",
       "    }\n",
       "\n",
       "    .dataframe thead th {\n",
       "        text-align: right;\n",
       "    }\n",
       "</style>\n",
       "<table border=\"1\" class=\"dataframe\">\n",
       "  <thead>\n",
       "    <tr style=\"text-align: right;\">\n",
       "      <th>label</th>\n",
       "      <th>0</th>\n",
       "      <th>1</th>\n",
       "      <th>All</th>\n",
       "    </tr>\n",
       "    <tr>\n",
       "      <th>strategy_id</th>\n",
       "      <th></th>\n",
       "      <th></th>\n",
       "      <th></th>\n",
       "    </tr>\n",
       "  </thead>\n",
       "  <tbody>\n",
       "    <tr>\n",
       "      <th>1</th>\n",
       "      <td>1892099</td>\n",
       "      <td>23936</td>\n",
       "      <td>1916035</td>\n",
       "    </tr>\n",
       "    <tr>\n",
       "      <th>2</th>\n",
       "      <td>406371</td>\n",
       "      <td>6307</td>\n",
       "      <td>412678</td>\n",
       "    </tr>\n",
       "    <tr>\n",
       "      <th>3</th>\n",
       "      <td>308955</td>\n",
       "      <td>8290</td>\n",
       "      <td>317245</td>\n",
       "    </tr>\n",
       "    <tr>\n",
       "      <th>All</th>\n",
       "      <td>2607425</td>\n",
       "      <td>38533</td>\n",
       "      <td>2645958</td>\n",
       "    </tr>\n",
       "  </tbody>\n",
       "</table>\n",
       "</div>"
      ],
      "text/plain": [
       "label              0      1      All\n",
       "strategy_id                         \n",
       "1            1892099  23936  1916035\n",
       "2             406371   6307   412678\n",
       "3             308955   8290   317245\n",
       "All          2607425  38533  2645958"
      ]
     },
     "execution_count": 18,
     "metadata": {},
     "output_type": "execute_result"
    }
   ],
   "source": [
    "data.pivot_table(index = \"strategy_id\", columns = \"label\", values = \"user_id\",\n",
    "                aggfunc = \"count\", margins = True)"
   ]
  },
  {
   "cell_type": "code",
   "execution_count": 19,
   "id": "5abbe963-8565-45f1-9da2-059dedc24e68",
   "metadata": {},
   "outputs": [
    {
     "data": {
      "text/plain": [
       "user_id        int64\n",
       "label          int64\n",
       "strategy_id    int64\n",
       "dtype: object"
      ]
     },
     "execution_count": 19,
     "metadata": {},
     "output_type": "execute_result"
    }
   ],
   "source": [
    "data.dtypes"
   ]
  },
  {
   "cell_type": "code",
   "execution_count": 40,
   "id": "c5276a36-5889-41b0-bd28-06f25d286a3c",
   "metadata": {},
   "outputs": [
    {
     "name": "stdout",
     "output_type": "stream",
     "text": [
      "min_sample_size: 117735\n"
     ]
    }
   ],
   "source": [
    "# Sample Size Calculator\n",
    "# control group\n",
    "data[data[\"strategy_id\"] == 1][\"label\"].mean()\n",
    "import math\n",
    "from statsmodels.stats.power import TTestIndPower\n",
    "effect_size = 0.02  # expected change\n",
    "alpha = 0.05  # confidence\n",
    "power = 0.8  # statistical power\n",
    "ratio = 0.2  # sample size with 2 groups\n",
    "\n",
    "analysis = TTestIndPower()\n",
    "sample_size = analysis.solve_power(effect_size=effect_size, alpha=alpha, power=power, ratio=ratio)\n",
    "sample_size = math.ceil(sample_size)  \n",
    "\n",
    "print(f\"min_sample_size: {sample_size}\")"
   ]
  },
  {
   "cell_type": "code",
   "execution_count": 21,
   "id": "eb838fd1-5a0c-4214-8bd7-c3607ab1ca2d",
   "metadata": {},
   "outputs": [
    {
     "data": {
      "text/plain": [
       "strategy_id\n",
       "1    1916035\n",
       "2     412678\n",
       "3     317245\n",
       "Name: count, dtype: int64"
      ]
     },
     "execution_count": 21,
     "metadata": {},
     "output_type": "execute_result"
    }
   ],
   "source": [
    "data[\"strategy_id\"].value_counts()\n",
    "# Sample size > min sample size"
   ]
  },
  {
   "cell_type": "code",
   "execution_count": 28,
   "id": "ada0e5cf-de42-40b5-936a-9d1ea0374007",
   "metadata": {},
   "outputs": [
    {
     "name": "stdout",
     "output_type": "stream",
     "text": [
      "Control Group:  0.012492464908000114\n",
      "Strategy 1:  0.015283102079587475\n",
      "Strategy 2:  0.026131223502340463\n"
     ]
    }
   ],
   "source": [
    "print(\"Control Group: \", data[data[\"strategy_id\"] == 1][\"label\"].mean())\n",
    "print(\"Strategy 1: \", data[data[\"strategy_id\"] == 2][\"label\"].mean())\n",
    "print(\"Strategy 2: \", data[data[\"strategy_id\"] == 3][\"label\"].mean())\n"
   ]
  },
  {
   "cell_type": "code",
   "execution_count": 49,
   "id": "3d8d9fa7-8723-437b-aa70-440a16494f9c",
   "metadata": {},
   "outputs": [
    {
     "name": "stdout",
     "output_type": "stream",
     "text": [
      "total rate： 0.014429896833357214\n"
     ]
    },
    {
     "name": "stderr",
     "output_type": "stream",
     "text": [
      "C:\\Users\\Administrator\\AppData\\Local\\Temp\\ipykernel_22692\\2069579646.py:5: UserWarning: Boolean Series key will be reindexed to match DataFrame index.\n",
      "  c_old = len(data[data.strategy_id ==1][data.label == 1])\n",
      "C:\\Users\\Administrator\\AppData\\Local\\Temp\\ipykernel_22692\\2069579646.py:6: UserWarning: Boolean Series key will be reindexed to match DataFrame index.\n",
      "  c_new = len(data[data.strategy_id ==3][data.label == 1])\n"
     ]
    }
   ],
   "source": [
    "\n",
    "n_old = len(data[data.strategy_id == 1])  # control group\n",
    "n_new = len(data[data.strategy_id == 3])  # strategy\n",
    "\n",
    "\n",
    "c_old = len(data[data.strategy_id ==1][data.label == 1])\n",
    "c_new = len(data[data.strategy_id ==3][data.label == 1])\n",
    "\n",
    "\n",
    "r_old = c_old / n_old\n",
    "r_new = c_new / n_new\n",
    "\n",
    "\n",
    "r = (c_old + c_new) / (n_old + n_new)\n",
    "\n",
    "print(\"total rate：\", r)"
   ]
  },
  {
   "cell_type": "code",
   "execution_count": 57,
   "id": "59e8ed39-1fd8-40bb-97e1-3770ee2efc6b",
   "metadata": {},
   "outputs": [
    {
     "name": "stdout",
     "output_type": "stream",
     "text": [
      "z： -59.66600946268368 ，pvalue： 0.0\n",
      "Statistical power: 1.0\n"
     ]
    }
   ],
   "source": [
    "# strategy 1\n",
    "import statsmodels.stats.proportion as sp\n",
    "z_score, p = sp.proportions_ztest([c_old, c_new],[n_old, n_new], alternative = \"smaller\")\n",
    "print(\"z：\",z_score,\"，pvalue：\", p)\n",
    "from statsmodels.stats.power import NormalIndPower\n",
    "from statsmodels.stats.proportion import proportion_effectsize\n",
    "effect_size = proportion_effectsize(c_old / n_old, c_new / n_new)\n",
    "power_analysis = NormalIndPower()\n",
    "power = power_analysis.solve_power(effect_size=effect_size, nobs1=n_old, alpha=0.05, ratio=n_new/n_old, alternative='smaller')\n",
    "print(\"Statistical power:\", power)"
   ]
  },
  {
   "cell_type": "code",
   "execution_count": 58,
   "id": "c3a3de69-88f0-4cc7-bc80-d417ed25d843",
   "metadata": {},
   "outputs": [
    {
     "name": "stdout",
     "output_type": "stream",
     "text": [
      "z： -14.362726203811503 ，pvalue： 4.433468512724253e-47\n",
      "Statistical power: 1.0\n"
     ]
    },
    {
     "name": "stderr",
     "output_type": "stream",
     "text": [
      "C:\\Users\\Administrator\\AppData\\Local\\Temp\\ipykernel_22692\\205751787.py:2: UserWarning: Boolean Series key will be reindexed to match DataFrame index.\n",
      "  z_score, p = sp.proportions_ztest([c_old, len(data[data.strategy_id ==2][data.label == 1])],[n_old, len(data[data.strategy_id == 2])], alternative = \"smaller\")\n"
     ]
    }
   ],
   "source": [
    "# strategy 1\n",
    "z_score, p = sp.proportions_ztest([c_old, len(data[data.strategy_id ==2][data.label == 1])],[n_old, len(data[data.strategy_id == 2])], alternative = \"smaller\")\n",
    "print(\"z：\",z_score,\"，pvalue：\", p)\n",
    "\n",
    "from statsmodels.stats.power import NormalIndPower\n",
    "from statsmodels.stats.proportion import proportion_effectsize\n",
    "effect_size = proportion_effectsize(c_old / n_old, c_new / n_new)\n",
    "power_analysis = NormalIndPower()\n",
    "power = power_analysis.solve_power(effect_size=effect_size, nobs1=n_old, alpha=0.05, ratio=n_new/n_old, alternative='smaller')\n",
    "print(\"Statistical power:\", power)"
   ]
  },
  {
   "cell_type": "code",
   "execution_count": 61,
   "id": "24295aeb-4705-43ba-9d2c-1e551977a8be",
   "metadata": {},
   "outputs": [
    {
     "name": "stderr",
     "output_type": "stream",
     "text": [
      "C:\\Users\\Administrator\\AppData\\Local\\Temp\\ipykernel_22692\\3232336618.py:10: SettingWithCopyWarning: \n",
      "A value is trying to be set on a copy of a slice from a DataFrame.\n",
      "Try using .loc[row_indexer,col_indexer] = value instead\n",
      "\n",
      "See the caveats in the documentation: https://pandas.pydata.org/pandas-docs/stable/user_guide/indexing.html#returning-a-view-versus-a-copy\n",
      "  control_data['group'] = np.random.choice(['A1', 'A2', 'A3'], size=len(control_data), replace=True)\n"
     ]
    },
    {
     "name": "stdout",
     "output_type": "stream",
     "text": [
      "Sample size of A1: 638230\n",
      "Sample size of A2: 638840\n",
      "Sample size of A3: 638965\n"
     ]
    },
    {
     "name": "stderr",
     "output_type": "stream",
     "text": [
      "C:\\Users\\Administrator\\AppData\\Local\\Temp\\ipykernel_22692\\3232336618.py:24: UserWarning: Boolean Series key will be reindexed to match DataFrame index.\n",
      "  c_A1 = len(control_data[control_data.group == 'A1'][control_data.label == 1])\n"
     ]
    },
    {
     "name": "stdout",
     "output_type": "stream",
     "text": [
      "Total rate: 0.012442544261473528\n",
      "A/A Test - z-score: -2.5418134831300656, p-value: 0.011027900460504928\n",
      "A/A Test rejected the null hypothesis, user segmentation may have issues.\n"
     ]
    },
    {
     "name": "stderr",
     "output_type": "stream",
     "text": [
      "C:\\Users\\Administrator\\AppData\\Local\\Temp\\ipykernel_22692\\3232336618.py:25: UserWarning: Boolean Series key will be reindexed to match DataFrame index.\n",
      "  c_A2 = len(control_data[control_data.group == 'A2'][control_data.label == 1])\n"
     ]
    }
   ],
   "source": [
    "import numpy as np\n",
    "import statsmodels.stats.proportion as sp\n",
    "\n",
    "# Generate random groupings\n",
    "# Assuming control group data has strategy_id == 1\n",
    "control_data = data[data.strategy_id == 1]\n",
    "\n",
    "# Randomly split the control group into three groups\n",
    "np.random.seed(42)  # To ensure consistent randomization\n",
    "control_data['group'] = np.random.choice(['A1', 'A2', 'A3'], size=len(control_data), replace=True)\n",
    "# Display the size of each random sample group\n",
    "n_A1 = len(control_data[control_data.group == 'A1'])\n",
    "n_A2 = len(control_data[control_data.group == 'A2'])\n",
    "n_A3 = len(control_data[control_data.group == 'A3'])\n",
    "\n",
    "print(f\"Sample size of A1: {n_A1}\")\n",
    "print(f\"Sample size of A2: {n_A2}\")\n",
    "print(f\"Sample size of A3: {n_A3}\")\n",
    "\n",
    "# Select two groups for the A/A test, assuming we choose A1 and A2 for comparison\n",
    "n_A1 = len(control_data[control_data.group == 'A1'])\n",
    "n_A2 = len(control_data[control_data.group == 'A2'])\n",
    "\n",
    "c_A1 = len(control_data[control_data.group == 'A1'][control_data.label == 1])\n",
    "c_A2 = len(control_data[control_data.group == 'A2'][control_data.label == 1])\n",
    "\n",
    "# Calculate the conversion rates for A1 and A2\n",
    "r_A1 = c_A1 / n_A1\n",
    "r_A2 = c_A2 / n_A2\n",
    "\n",
    "# Calculate the total conversion rate\n",
    "r_total = (c_A1 + c_A2) / (n_A1 + n_A2)\n",
    "print(\"Total rate:\", r_total)\n",
    "\n",
    "# A/A test to verify whether there is a significant difference in conversion rates between the two groups\n",
    "z_score, p_value = sp.proportions_ztest([c_A1, c_A2], [n_A1, n_A2], alternative=\"two-sided\")\n",
    "\n",
    "print(f\"A/A Test - z-score: {z_score}, p-value: {p_value}\")\n",
    "\n",
    "# Interpret test results\n",
    "if p_value > 0.05:\n",
    "    print(\"A/A Test did not reject the null hypothesis, user segmentation is reasonable.\")\n",
    "else:\n",
    "    print(\"A/A Test rejected the null hypothesis, user segmentation may have issues.\")\n"
   ]
  },
  {
   "cell_type": "code",
   "execution_count": 63,
   "id": "2bbe1995-1722-455a-93eb-142767ab854c",
   "metadata": {},
   "outputs": [
    {
     "name": "stdout",
     "output_type": "stream",
     "text": [
      "Total rate A1 vs A3: 0.012392782621291188\n",
      "Total rate A1 vs A3: 0.012392782621291188\n",
      "A/A Test A1 vs A3 - z-score: -2.038684138526655, p-value: 0.0414815617913717\n",
      "A/A Test A1 vs A3 rejected the null hypothesis, user segmentation may have issues.\n"
     ]
    },
    {
     "name": "stderr",
     "output_type": "stream",
     "text": [
      "C:\\Users\\Administrator\\AppData\\Local\\Temp\\ipykernel_22692\\1818561290.py:2: UserWarning: Boolean Series key will be reindexed to match DataFrame index.\n",
      "  c_A3 = len(control_data[control_data.group == 'A3'][control_data.label == 1])\n"
     ]
    }
   ],
   "source": [
    "# A1 vs A3 \n",
    "c_A3 = len(control_data[control_data.group == 'A3'][control_data.label == 1])\n",
    "\n",
    "# Calculate the conversion rates for A1 and A3\n",
    "r_A3 = c_A3 / n_A3\n",
    "\n",
    "# Calculate the total conversion rate for A1 and A3\n",
    "r_total_A1_A3 = (c_A1 + c_A3) / (n_A1 + n_A3)\n",
    "print(\"Total rate A1 vs A3:\", r_total_A1_A3)\n",
    "r_A3 = c_A3 / n_A3\n",
    "\n",
    "# Calculate the total conversion rate for A1 and A3\n",
    "r_total_A1_A3 = (c_A1 + c_A3) / (n_A1 + n_A3)\n",
    "print(\"Total rate A1 vs A3:\", r_total_A1_A3)\n",
    "\n",
    "# A/A test for A1 vs A3\n",
    "z_score_A1_A3, p_value_A1_A3 = sp.proportions_ztest([c_A1, c_A3], [n_A1, n_A3], alternative=\"two-sided\")\n",
    "\n",
    "print(f\"A/A Test A1 vs A3 - z-score: {z_score_A1_A3}, p-value: {p_value_A1_A3}\")\n",
    "\n",
    "# Interpret A1 vs A3 test results\n",
    "if p_value_A1_A3 > 0.05:\n",
    "    print(\"A/A Test A1 vs A3 did not reject the null hypothesis, user segmentation is reasonable.\")\n",
    "else:\n",
    "    print(\"A/A Test A1 vs A3 rejected the null hypothesis, user segmentation may have issues.\")"
   ]
  },
  {
   "cell_type": "code",
   "execution_count": null,
   "id": "3edd89d2-191d-4b3a-a494-15b5aaab5ce5",
   "metadata": {},
   "outputs": [],
   "source": []
  }
 ],
 "metadata": {
  "kernelspec": {
   "display_name": "Python 3 (ipykernel)",
   "language": "python",
   "name": "python3"
  },
  "language_info": {
   "codemirror_mode": {
    "name": "ipython",
    "version": 3
   },
   "file_extension": ".py",
   "mimetype": "text/x-python",
   "name": "python",
   "nbconvert_exporter": "python",
   "pygments_lexer": "ipython3",
   "version": "3.12.4"
  }
 },
 "nbformat": 4,
 "nbformat_minor": 5
}
